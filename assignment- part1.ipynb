{
 "cells": [
  {
   "cell_type": "code",
   "execution_count": 3,
   "id": "95458968-aa82-449d-bce6-bf828bc5b78c",
   "metadata": {},
   "outputs": [],
   "source": [
    "import pandas as pd\n",
    "import numpy as np"
   ]
  },
  {
   "cell_type": "code",
   "execution_count": 4,
   "id": "2810424e-2e69-48c1-9c8a-9ea9294191f2",
   "metadata": {},
   "outputs": [
    {
     "name": "stderr",
     "output_type": "stream",
     "text": [
      "Intel(R) Extension for Scikit-learn* enabled (https://github.com/intel/scikit-learn-intelex)\n"
     ]
    }
   ],
   "source": [
    "from sklearnex import patch_sklearn\n",
    "patch_sklearn()"
   ]
  },
  {
   "cell_type": "code",
   "execution_count": 5,
   "id": "6fe83fa1-5305-4107-ae90-c0a13149b9f4",
   "metadata": {},
   "outputs": [],
   "source": [
    "from sklearn.model_selection import train_test_split\n",
    "from sklearn.ensemble import RandomForestClassifier\n",
    "from sklearn.metrics import accuracy_score"
   ]
  },
  {
   "cell_type": "code",
   "execution_count": 6,
   "id": "b05e8f34-482f-4fab-b7d6-79fd5553f729",
   "metadata": {},
   "outputs": [],
   "source": [
    "adm = pd.read_csv(r'C:\\Users\\Om\\OneDrive\\Documents\\Labs\\MLEL\\Admission Chance.csv')"
   ]
  },
  {
   "cell_type": "code",
   "execution_count": 43,
   "id": "69c36dff-8ccc-4032-b08a-d773f81766f9",
   "metadata": {},
   "outputs": [
    {
     "data": {
      "text/html": [
       "<div>\n",
       "<style scoped>\n",
       "    .dataframe tbody tr th:only-of-type {\n",
       "        vertical-align: middle;\n",
       "    }\n",
       "\n",
       "    .dataframe tbody tr th {\n",
       "        vertical-align: top;\n",
       "    }\n",
       "\n",
       "    .dataframe thead th {\n",
       "        text-align: right;\n",
       "    }\n",
       "</style>\n",
       "<table border=\"1\" class=\"dataframe\">\n",
       "  <thead>\n",
       "    <tr style=\"text-align: right;\">\n",
       "      <th></th>\n",
       "      <th>Serial No</th>\n",
       "      <th>GRE Score</th>\n",
       "      <th>TOEFL Score</th>\n",
       "      <th>University Rating</th>\n",
       "      <th>SOP</th>\n",
       "      <th>LOR</th>\n",
       "      <th>CGPA</th>\n",
       "      <th>Research</th>\n",
       "      <th>Chance of Admit</th>\n",
       "    </tr>\n",
       "  </thead>\n",
       "  <tbody>\n",
       "    <tr>\n",
       "      <th>0</th>\n",
       "      <td>1</td>\n",
       "      <td>337</td>\n",
       "      <td>118</td>\n",
       "      <td>4</td>\n",
       "      <td>4.5</td>\n",
       "      <td>4.5</td>\n",
       "      <td>9.65</td>\n",
       "      <td>1</td>\n",
       "      <td>0.92</td>\n",
       "    </tr>\n",
       "    <tr>\n",
       "      <th>1</th>\n",
       "      <td>2</td>\n",
       "      <td>324</td>\n",
       "      <td>107</td>\n",
       "      <td>4</td>\n",
       "      <td>4.0</td>\n",
       "      <td>4.5</td>\n",
       "      <td>8.87</td>\n",
       "      <td>1</td>\n",
       "      <td>0.76</td>\n",
       "    </tr>\n",
       "    <tr>\n",
       "      <th>2</th>\n",
       "      <td>3</td>\n",
       "      <td>316</td>\n",
       "      <td>104</td>\n",
       "      <td>3</td>\n",
       "      <td>3.0</td>\n",
       "      <td>3.5</td>\n",
       "      <td>8.00</td>\n",
       "      <td>1</td>\n",
       "      <td>0.72</td>\n",
       "    </tr>\n",
       "    <tr>\n",
       "      <th>3</th>\n",
       "      <td>4</td>\n",
       "      <td>322</td>\n",
       "      <td>110</td>\n",
       "      <td>3</td>\n",
       "      <td>3.5</td>\n",
       "      <td>2.5</td>\n",
       "      <td>8.67</td>\n",
       "      <td>1</td>\n",
       "      <td>0.80</td>\n",
       "    </tr>\n",
       "    <tr>\n",
       "      <th>4</th>\n",
       "      <td>5</td>\n",
       "      <td>314</td>\n",
       "      <td>103</td>\n",
       "      <td>2</td>\n",
       "      <td>2.0</td>\n",
       "      <td>3.0</td>\n",
       "      <td>8.21</td>\n",
       "      <td>0</td>\n",
       "      <td>0.65</td>\n",
       "    </tr>\n",
       "    <tr>\n",
       "      <th>...</th>\n",
       "      <td>...</td>\n",
       "      <td>...</td>\n",
       "      <td>...</td>\n",
       "      <td>...</td>\n",
       "      <td>...</td>\n",
       "      <td>...</td>\n",
       "      <td>...</td>\n",
       "      <td>...</td>\n",
       "      <td>...</td>\n",
       "    </tr>\n",
       "    <tr>\n",
       "      <th>395</th>\n",
       "      <td>396</td>\n",
       "      <td>324</td>\n",
       "      <td>110</td>\n",
       "      <td>3</td>\n",
       "      <td>3.5</td>\n",
       "      <td>3.5</td>\n",
       "      <td>9.04</td>\n",
       "      <td>1</td>\n",
       "      <td>0.82</td>\n",
       "    </tr>\n",
       "    <tr>\n",
       "      <th>396</th>\n",
       "      <td>397</td>\n",
       "      <td>325</td>\n",
       "      <td>107</td>\n",
       "      <td>3</td>\n",
       "      <td>3.0</td>\n",
       "      <td>3.5</td>\n",
       "      <td>9.11</td>\n",
       "      <td>1</td>\n",
       "      <td>0.84</td>\n",
       "    </tr>\n",
       "    <tr>\n",
       "      <th>397</th>\n",
       "      <td>398</td>\n",
       "      <td>330</td>\n",
       "      <td>116</td>\n",
       "      <td>4</td>\n",
       "      <td>5.0</td>\n",
       "      <td>4.5</td>\n",
       "      <td>9.45</td>\n",
       "      <td>1</td>\n",
       "      <td>0.91</td>\n",
       "    </tr>\n",
       "    <tr>\n",
       "      <th>398</th>\n",
       "      <td>399</td>\n",
       "      <td>312</td>\n",
       "      <td>103</td>\n",
       "      <td>3</td>\n",
       "      <td>3.5</td>\n",
       "      <td>4.0</td>\n",
       "      <td>8.78</td>\n",
       "      <td>0</td>\n",
       "      <td>0.67</td>\n",
       "    </tr>\n",
       "    <tr>\n",
       "      <th>399</th>\n",
       "      <td>400</td>\n",
       "      <td>333</td>\n",
       "      <td>117</td>\n",
       "      <td>4</td>\n",
       "      <td>5.0</td>\n",
       "      <td>4.0</td>\n",
       "      <td>9.66</td>\n",
       "      <td>1</td>\n",
       "      <td>0.95</td>\n",
       "    </tr>\n",
       "  </tbody>\n",
       "</table>\n",
       "<p>400 rows × 9 columns</p>\n",
       "</div>"
      ],
      "text/plain": [
       "     Serial No  GRE Score  TOEFL Score  University Rating   SOP  LOR   CGPA  \\\n",
       "0            1        337          118                  4   4.5   4.5  9.65   \n",
       "1            2        324          107                  4   4.0   4.5  8.87   \n",
       "2            3        316          104                  3   3.0   3.5  8.00   \n",
       "3            4        322          110                  3   3.5   2.5  8.67   \n",
       "4            5        314          103                  2   2.0   3.0  8.21   \n",
       "..         ...        ...          ...                ...   ...   ...   ...   \n",
       "395        396        324          110                  3   3.5   3.5  9.04   \n",
       "396        397        325          107                  3   3.0   3.5  9.11   \n",
       "397        398        330          116                  4   5.0   4.5  9.45   \n",
       "398        399        312          103                  3   3.5   4.0  8.78   \n",
       "399        400        333          117                  4   5.0   4.0  9.66   \n",
       "\n",
       "     Research  Chance of Admit   \n",
       "0           1              0.92  \n",
       "1           1              0.76  \n",
       "2           1              0.72  \n",
       "3           1              0.80  \n",
       "4           0              0.65  \n",
       "..        ...               ...  \n",
       "395         1              0.82  \n",
       "396         1              0.84  \n",
       "397         1              0.91  \n",
       "398         0              0.67  \n",
       "399         1              0.95  \n",
       "\n",
       "[400 rows x 9 columns]"
      ]
     },
     "execution_count": 43,
     "metadata": {},
     "output_type": "execute_result"
    }
   ],
   "source": [
    "adm"
   ]
  },
  {
   "cell_type": "code",
   "execution_count": 10,
   "id": "e63d4066-ef51-4b48-8e51-8355cc68563c",
   "metadata": {},
   "outputs": [
    {
     "data": {
      "text/plain": [
       "400"
      ]
     },
     "execution_count": 10,
     "metadata": {},
     "output_type": "execute_result"
    }
   ],
   "source": [
    "adm.shape[0]"
   ]
  },
  {
   "cell_type": "code",
   "execution_count": 11,
   "id": "e14cc667-b195-4e92-804c-61290a796f12",
   "metadata": {},
   "outputs": [
    {
     "data": {
      "text/plain": [
       "Index(['Serial No', 'GRE Score', 'TOEFL Score', 'University Rating', ' SOP',\n",
       "       'LOR ', 'CGPA', 'Research', 'Chance of Admit '],\n",
       "      dtype='object')"
      ]
     },
     "execution_count": 11,
     "metadata": {},
     "output_type": "execute_result"
    }
   ],
   "source": [
    "adm.columns"
   ]
  },
  {
   "cell_type": "code",
   "execution_count": 12,
   "id": "a192bd6b-40a2-4208-b0f1-4d0ae0fcaaf8",
   "metadata": {},
   "outputs": [
    {
     "data": {
      "text/plain": [
       "Serial No              int64\n",
       "GRE Score              int64\n",
       "TOEFL Score            int64\n",
       "University Rating      int64\n",
       " SOP                 float64\n",
       "LOR                  float64\n",
       "CGPA                 float64\n",
       "Research               int64\n",
       "Chance of Admit      float64\n",
       "dtype: object"
      ]
     },
     "execution_count": 12,
     "metadata": {},
     "output_type": "execute_result"
    }
   ],
   "source": [
    "adm.dtypes"
   ]
  },
  {
   "cell_type": "code",
   "execution_count": 11,
   "id": "d7351b2b-b938-4a8c-b534-60fb7f365e0e",
   "metadata": {},
   "outputs": [
    {
     "name": "stdout",
     "output_type": "stream",
     "text": [
      "        Serial No   GRE Score  TOEFL Score  University Rating         SOP  \\\n",
      "count  400.000000  400.000000   400.000000         400.000000  400.000000   \n",
      "mean   200.500000  316.807500   107.410000           3.087500    3.400000   \n",
      "std    115.614301   11.473646     6.069514           1.143728    1.006869   \n",
      "min      1.000000  290.000000    92.000000           1.000000    1.000000   \n",
      "25%    100.750000  308.000000   103.000000           2.000000    2.500000   \n",
      "50%    200.500000  317.000000   107.000000           3.000000    3.500000   \n",
      "75%    300.250000  325.000000   112.000000           4.000000    4.000000   \n",
      "max    400.000000  340.000000   120.000000           5.000000    5.000000   \n",
      "range  399.000000   50.000000    28.000000           4.000000    4.000000   \n",
      "\n",
      "             LOR         CGPA    Research  Chance of Admit   \n",
      "count  400.000000  400.000000  400.000000        400.000000  \n",
      "mean     3.452500    8.598925    0.547500          0.724350  \n",
      "std      0.898478    0.596317    0.498362          0.142609  \n",
      "min      1.000000    6.800000    0.000000          0.340000  \n",
      "25%      3.000000    8.170000    0.000000          0.640000  \n",
      "50%      3.500000    8.610000    1.000000          0.730000  \n",
      "75%      4.000000    9.062500    1.000000          0.830000  \n",
      "max      5.000000    9.920000    1.000000          0.970000  \n",
      "range    4.000000    3.120000    1.000000          0.630000  \n"
     ]
    }
   ],
   "source": [
    "summary_stats = adm.describe()\n",
    "range_values = summary_stats.loc['max'] - summary_stats.loc['min']\n",
    "summary_stats.loc['range'] = range_values\n",
    "print(summary_stats)"
   ]
  },
  {
   "cell_type": "code",
   "execution_count": 9,
   "id": "94add899-052f-4415-891f-c71af4a8c4dd",
   "metadata": {},
   "outputs": [
    {
     "data": {
      "text/html": [
       "<div>\n",
       "<style scoped>\n",
       "    .dataframe tbody tr th:only-of-type {\n",
       "        vertical-align: middle;\n",
       "    }\n",
       "\n",
       "    .dataframe tbody tr th {\n",
       "        vertical-align: top;\n",
       "    }\n",
       "\n",
       "    .dataframe thead th {\n",
       "        text-align: right;\n",
       "    }\n",
       "</style>\n",
       "<table border=\"1\" class=\"dataframe\">\n",
       "  <thead>\n",
       "    <tr style=\"text-align: right;\">\n",
       "      <th></th>\n",
       "      <th>Serial No</th>\n",
       "      <th>GRE Score</th>\n",
       "      <th>TOEFL Score</th>\n",
       "      <th>University Rating</th>\n",
       "      <th>SOP</th>\n",
       "      <th>LOR</th>\n",
       "      <th>CGPA</th>\n",
       "      <th>Chance of Admit</th>\n",
       "    </tr>\n",
       "    <tr>\n",
       "      <th>Research</th>\n",
       "      <th></th>\n",
       "      <th></th>\n",
       "      <th></th>\n",
       "      <th></th>\n",
       "      <th></th>\n",
       "      <th></th>\n",
       "      <th></th>\n",
       "      <th></th>\n",
       "    </tr>\n",
       "  </thead>\n",
       "  <tbody>\n",
       "    <tr>\n",
       "      <th>0</th>\n",
       "      <td>208.519337</td>\n",
       "      <td>309.491713</td>\n",
       "      <td>104.143646</td>\n",
       "      <td>2.524862</td>\n",
       "      <td>2.908840</td>\n",
       "      <td>3.060773</td>\n",
       "      <td>8.257182</td>\n",
       "      <td>0.637680</td>\n",
       "    </tr>\n",
       "    <tr>\n",
       "      <th>1</th>\n",
       "      <td>193.872146</td>\n",
       "      <td>322.853881</td>\n",
       "      <td>110.109589</td>\n",
       "      <td>3.552511</td>\n",
       "      <td>3.805936</td>\n",
       "      <td>3.776256</td>\n",
       "      <td>8.881370</td>\n",
       "      <td>0.795982</td>\n",
       "    </tr>\n",
       "  </tbody>\n",
       "</table>\n",
       "</div>"
      ],
      "text/plain": [
       "           Serial No   GRE Score  TOEFL Score  University Rating       SOP  \\\n",
       "Research                                                                     \n",
       "0         208.519337  309.491713   104.143646           2.524862  2.908840   \n",
       "1         193.872146  322.853881   110.109589           3.552511  3.805936   \n",
       "\n",
       "              LOR       CGPA  Chance of Admit   \n",
       "Research                                        \n",
       "0         3.060773  8.257182          0.637680  \n",
       "1         3.776256  8.881370          0.795982  "
      ]
     },
     "execution_count": 9,
     "metadata": {},
     "output_type": "execute_result"
    }
   ],
   "source": [
    "adm.groupby('Research').mean()"
   ]
  },
  {
   "cell_type": "code",
   "execution_count": 28,
   "id": "2c274d23-6ebf-4358-a686-e74aeeb4f7ea",
   "metadata": {},
   "outputs": [
    {
     "data": {
      "text/html": [
       "<div>\n",
       "<style scoped>\n",
       "    .dataframe tbody tr th:only-of-type {\n",
       "        vertical-align: middle;\n",
       "    }\n",
       "\n",
       "    .dataframe tbody tr th {\n",
       "        vertical-align: top;\n",
       "    }\n",
       "\n",
       "    .dataframe thead th {\n",
       "        text-align: right;\n",
       "    }\n",
       "</style>\n",
       "<table border=\"1\" class=\"dataframe\">\n",
       "  <thead>\n",
       "    <tr style=\"text-align: right;\">\n",
       "      <th></th>\n",
       "      <th>Serial No</th>\n",
       "      <th>GRE Score</th>\n",
       "      <th>TOEFL Score</th>\n",
       "      <th>University Rating</th>\n",
       "      <th>SOP</th>\n",
       "      <th>LOR</th>\n",
       "      <th>CGPA</th>\n",
       "      <th>Chance of Admit</th>\n",
       "    </tr>\n",
       "    <tr>\n",
       "      <th>Research</th>\n",
       "      <th></th>\n",
       "      <th></th>\n",
       "      <th></th>\n",
       "      <th></th>\n",
       "      <th></th>\n",
       "      <th></th>\n",
       "      <th></th>\n",
       "      <th></th>\n",
       "    </tr>\n",
       "  </thead>\n",
       "  <tbody>\n",
       "    <tr>\n",
       "      <th>0</th>\n",
       "      <td>220.0</td>\n",
       "      <td>310.0</td>\n",
       "      <td>104.0</td>\n",
       "      <td>2.0</td>\n",
       "      <td>3.0</td>\n",
       "      <td>3.0</td>\n",
       "      <td>8.27</td>\n",
       "      <td>0.65</td>\n",
       "    </tr>\n",
       "    <tr>\n",
       "      <th>1</th>\n",
       "      <td>191.0</td>\n",
       "      <td>324.0</td>\n",
       "      <td>110.0</td>\n",
       "      <td>4.0</td>\n",
       "      <td>4.0</td>\n",
       "      <td>4.0</td>\n",
       "      <td>8.97</td>\n",
       "      <td>0.80</td>\n",
       "    </tr>\n",
       "  </tbody>\n",
       "</table>\n",
       "</div>"
      ],
      "text/plain": [
       "          Serial No  GRE Score  TOEFL Score  University Rating   SOP  LOR   \\\n",
       "Research                                                                     \n",
       "0             220.0      310.0        104.0                2.0   3.0   3.0   \n",
       "1             191.0      324.0        110.0                4.0   4.0   4.0   \n",
       "\n",
       "          CGPA  Chance of Admit   \n",
       "Research                          \n",
       "0         8.27              0.65  \n",
       "1         8.97              0.80  "
      ]
     },
     "execution_count": 28,
     "metadata": {},
     "output_type": "execute_result"
    }
   ],
   "source": [
    "adm.groupby('Research').median()"
   ]
  },
  {
   "cell_type": "code",
   "execution_count": 30,
   "id": "680b662b-7829-4da7-96bf-6f1785b9c3cc",
   "metadata": {},
   "outputs": [
    {
     "data": {
      "text/html": [
       "<div>\n",
       "<style scoped>\n",
       "    .dataframe tbody tr th:only-of-type {\n",
       "        vertical-align: middle;\n",
       "    }\n",
       "\n",
       "    .dataframe tbody tr th {\n",
       "        vertical-align: top;\n",
       "    }\n",
       "\n",
       "    .dataframe thead tr th {\n",
       "        text-align: left;\n",
       "    }\n",
       "\n",
       "    .dataframe thead tr:last-of-type th {\n",
       "        text-align: right;\n",
       "    }\n",
       "</style>\n",
       "<table border=\"1\" class=\"dataframe\">\n",
       "  <thead>\n",
       "    <tr>\n",
       "      <th></th>\n",
       "      <th colspan=\"2\" halign=\"left\">Serial No</th>\n",
       "      <th colspan=\"2\" halign=\"left\">GRE Score</th>\n",
       "      <th colspan=\"2\" halign=\"left\">TOEFL Score</th>\n",
       "      <th colspan=\"2\" halign=\"left\">University Rating</th>\n",
       "      <th colspan=\"2\" halign=\"left\">SOP</th>\n",
       "      <th colspan=\"2\" halign=\"left\">LOR</th>\n",
       "      <th colspan=\"2\" halign=\"left\">CGPA</th>\n",
       "      <th colspan=\"2\" halign=\"left\">Chance of Admit</th>\n",
       "    </tr>\n",
       "    <tr>\n",
       "      <th></th>\n",
       "      <th>mean</th>\n",
       "      <th>median</th>\n",
       "      <th>mean</th>\n",
       "      <th>median</th>\n",
       "      <th>mean</th>\n",
       "      <th>median</th>\n",
       "      <th>mean</th>\n",
       "      <th>median</th>\n",
       "      <th>mean</th>\n",
       "      <th>median</th>\n",
       "      <th>mean</th>\n",
       "      <th>median</th>\n",
       "      <th>mean</th>\n",
       "      <th>median</th>\n",
       "      <th>mean</th>\n",
       "      <th>median</th>\n",
       "    </tr>\n",
       "    <tr>\n",
       "      <th>Research</th>\n",
       "      <th></th>\n",
       "      <th></th>\n",
       "      <th></th>\n",
       "      <th></th>\n",
       "      <th></th>\n",
       "      <th></th>\n",
       "      <th></th>\n",
       "      <th></th>\n",
       "      <th></th>\n",
       "      <th></th>\n",
       "      <th></th>\n",
       "      <th></th>\n",
       "      <th></th>\n",
       "      <th></th>\n",
       "      <th></th>\n",
       "      <th></th>\n",
       "    </tr>\n",
       "  </thead>\n",
       "  <tbody>\n",
       "    <tr>\n",
       "      <th>0</th>\n",
       "      <td>208.519337</td>\n",
       "      <td>220.0</td>\n",
       "      <td>309.491713</td>\n",
       "      <td>310.0</td>\n",
       "      <td>104.143646</td>\n",
       "      <td>104.0</td>\n",
       "      <td>2.524862</td>\n",
       "      <td>2.0</td>\n",
       "      <td>2.908840</td>\n",
       "      <td>3.0</td>\n",
       "      <td>3.060773</td>\n",
       "      <td>3.0</td>\n",
       "      <td>8.257182</td>\n",
       "      <td>8.27</td>\n",
       "      <td>0.637680</td>\n",
       "      <td>0.65</td>\n",
       "    </tr>\n",
       "    <tr>\n",
       "      <th>1</th>\n",
       "      <td>193.872146</td>\n",
       "      <td>191.0</td>\n",
       "      <td>322.853881</td>\n",
       "      <td>324.0</td>\n",
       "      <td>110.109589</td>\n",
       "      <td>110.0</td>\n",
       "      <td>3.552511</td>\n",
       "      <td>4.0</td>\n",
       "      <td>3.805936</td>\n",
       "      <td>4.0</td>\n",
       "      <td>3.776256</td>\n",
       "      <td>4.0</td>\n",
       "      <td>8.881370</td>\n",
       "      <td>8.97</td>\n",
       "      <td>0.795982</td>\n",
       "      <td>0.80</td>\n",
       "    </tr>\n",
       "  </tbody>\n",
       "</table>\n",
       "</div>"
      ],
      "text/plain": [
       "           Serial No          GRE Score        TOEFL Score         \\\n",
       "                mean median        mean median        mean median   \n",
       "Research                                                            \n",
       "0         208.519337  220.0  309.491713  310.0  104.143646  104.0   \n",
       "1         193.872146  191.0  322.853881  324.0  110.109589  110.0   \n",
       "\n",
       "         University Rating              SOP             LOR              CGPA  \\\n",
       "                      mean median      mean median      mean median      mean   \n",
       "Research                                                                        \n",
       "0                 2.524862    2.0  2.908840    3.0  3.060773    3.0  8.257182   \n",
       "1                 3.552511    4.0  3.805936    4.0  3.776256    4.0  8.881370   \n",
       "\n",
       "                Chance of Admit          \n",
       "         median             mean median  \n",
       "Research                                 \n",
       "0          8.27         0.637680   0.65  \n",
       "1          8.97         0.795982   0.80  "
      ]
     },
     "execution_count": 30,
     "metadata": {},
     "output_type": "execute_result"
    }
   ],
   "source": [
    "adm.groupby('Research').agg(['mean', 'median'])"
   ]
  },
  {
   "cell_type": "code",
   "execution_count": 40,
   "id": "a641401b-bd1d-4dd3-a0be-c98f7b1557fe",
   "metadata": {},
   "outputs": [],
   "source": [
    "import matplotlib.pyplot as plt"
   ]
  },
  {
   "cell_type": "code",
   "execution_count": 46,
   "id": "c9e2ebe7-86dd-4fdc-b791-198b5d595a76",
   "metadata": {},
   "outputs": [
    {
     "data": {
      "image/png": "[encoded data removed]",
      "text/plain": [
       "<Figure size 640x480 with 1 Axes>"
      ]
     },
     "metadata": {},
     "output_type": "display_data"
    }
   ],
   "source": [
    "plt.scatter(adm['GRE Score'], adm['Chance of Admit '])\n",
    "plt.xlabel('GRE Score')\n",
    "plt.ylabel('Chance of Admit ')\n",
    "plt.title('GRE Score vs Chance of Admit')\n",
    "plt.show()"
   ]
  },
  {
   "cell_type": "code",
   "execution_count": 50,
   "id": "ceb12d81-cb11-4035-a46b-4469bcbf94aa",
   "metadata": {},
   "outputs": [
    {
     "data": {
      "image/png": "[encoded data removed]",
      "text/plain": [
       "<Figure size 640x480 with 1 Axes>"
      ]
     },
     "metadata": {},
     "output_type": "display_data"
    }
   ],
   "source": [
    "plt.hist(adm['GRE Score'], bins=30, color='skyblue', edgecolor='black')\n",
    "plt.xlabel('GRE Score')\n",
    "plt.ylabel('Frequency')\n",
    "plt.title('Distribution of GRE Score')\n",
    "plt.show()"
   ]
  },
  {
   "cell_type": "code",
   "execution_count": 70,
   "id": "a4ab2b7c-cb80-49e8-926b-115469922be4",
   "metadata": {},
   "outputs": [
    {
     "data": {
      "image/png": "[encoded data removed]",
      "text/plain": [
       "<Figure size 600x600 with 1 Axes>"
      ]
     },
     "metadata": {},
     "output_type": "display_data"
    }
   ],
   "source": [
    "plt.figure(figsize=(6,6))\n",
    "Scores = [' SOP','LOR ']\n",
    "colors = ['red','blue']\n",
    "for Score, color in zip(Scores, colors):\n",
    "    plt.hist(adm[Score], alpha = 0.5, bins = 30, color = color, edgecolor = 'black')\n",
    "plt.xlabel('Scores')\n",
    "plt.ylabel('Frequency')\n",
    "plt.title('Distribution of All Scores')\n",
    "plt.show()"
   ]
  },
  {
   "cell_type": "code",
   "execution_count": 68,
   "id": "07263202-b21e-441f-8ed4-6cfdac4e8a76",
   "metadata": {},
   "outputs": [
    {
     "data": {
      "image/png": "[encoded data removed]",
      "text/plain": [
       "<Figure size 1200x800 with 2 Axes>"
      ]
     },
     "metadata": {},
     "output_type": "display_data"
    }
   ],
   "source": [
    "fig, axes = plt.subplots(nrows=1, ncols=2, figsize=(12, 8))\n",
    "axes = axes.flatten()\n",
    "for i, (Score, color) in enumerate(zip(Scores, colors)):\n",
    "    axes[i].hist(adm[Score], bins=20, color=color, edgecolor='black')\n",
    "    axes[i].set_title(f'Distribution of {Score}')\n",
    "    axes[i].set_xlabel('Measurement')\n",
    "    axes[i].set_ylabel('Frequency')\n",
    "plt.tight_layout()\n",
    "plt.show()"
   ]
  },
  {
   "cell_type": "code",
   "execution_count": 72,
   "id": "245cef39-a5b8-4c97-b282-da72bb52900a",
   "metadata": {},
   "outputs": [
    {
     "data": {
      "image/png": "[encoded data removed]",
      "text/plain": [
       "<Figure size 640x480 with 1 Axes>"
      ]
     },
     "metadata": {},
     "output_type": "display_data"
    }
   ],
   "source": [
    "boxplot = adm.boxplot(column=Scores)\n",
    "boxplot.set_title('Boxplot of SOP and LOR Scores')\n",
    "boxplot.set_ylabel('Score Values')\n",
    "plt.show()"
   ]
  },
  {
   "cell_type": "code",
   "execution_count": null,
   "id": "5a4d725b-6991-4b6b-8274-2b5086d561d2",
   "metadata": {},
   "outputs": [],
   "source": []
  }
 ],
 "metadata": {
  "kernelspec": {
   "display_name": "Python 3 (ipykernel)",
   "language": "python",
   "name": "python3"
  },
  "language_info": {
   "codemirror_mode": {
    "name": "ipython",
    "version": 3
   },
   "file_extension": ".py",
   "mimetype": "text/x-python",
   "name": "python",
   "nbconvert_exporter": "python",
   "pygments_lexer": "ipython3",
   "version": "3.11.5"
  }
 },
 "nbformat": 4,
 "nbformat_minor": 5
}
