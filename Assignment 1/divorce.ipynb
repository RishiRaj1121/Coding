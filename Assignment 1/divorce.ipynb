{
  "nbformat": 4,
  "nbformat_minor": 0,
  "metadata": {
    "colab": {
      "provenance": []
    },
    "kernelspec": {
      "name": "python3",
      "display_name": "Python 3"
    },
    "language_info": {
      "name": "python"
    }
  },
  "cells": [
    {
      "cell_type": "markdown",
      "source": [
        "Importing necessary libraries"
      ],
      "metadata": {
        "id": "Zgbyv56b3NFL"
      }
    },
    {
      "cell_type": "code",
      "execution_count": 1,
      "metadata": {
        "id": "eMMtoTuj2ayF"
      },
      "outputs": [],
      "source": [
        "import pandas as pd\n",
        "import numpy as np"
      ]
    },
    {
      "cell_type": "code",
      "source": [
        "from sklearn.model_selection import train_test_split\n",
        "from sklearn.preprocessing import StandardScaler"
      ],
      "metadata": {
        "id": "iS0H__Ku3Rqw"
      },
      "execution_count": 2,
      "outputs": []
    },
    {
      "cell_type": "markdown",
      "source": [
        "Loading the dataset"
      ],
      "metadata": {
        "id": "WK4u_t053T3R"
      }
    },
    {
      "cell_type": "markdown",
      "source": [
        "Displaying the entire dataset\n"
      ],
      "metadata": {
        "id": "1f_wWfI03laN"
      }
    },
    {
      "cell_type": "code",
      "source": [
        "divorce = pd.read_csv('divorce.csv')\n",
        "print(divorce.head())"
      ],
      "metadata": {
        "colab": {
          "base_uri": "https://localhost:8080/"
        },
        "id": "XGWTh5sO3Vni",
        "outputId": "71bc2f9e-4606-4f92-ffdf-9350b158d67f"
      },
      "execution_count": 3,
      "outputs": [
        {
          "output_type": "stream",
          "name": "stdout",
          "text": [
            "  divorce_date     dob_man education_man  income_man   dob_woman  \\\n",
            "0   2006-09-06  1975-12-18     Secondary      2000.0  1983-08-01   \n",
            "1   2008-01-02  1976-11-17  Professional      6000.0  1977-03-13   \n",
            "2   2011-01-02  1969-04-06   Preparatory      5000.0  1970-02-16   \n",
            "3   2011-01-02  1979-11-13     Secondary     12000.0  1981-05-13   \n",
            "4   2011-01-02  1982-09-20  Professional      6000.0  1988-01-30   \n",
            "\n",
            "  education_woman  income_woman marriage_date  marriage_duration  num_kids  \n",
            "0       Secondary        1800.0    2000-06-26                5.0       1.0  \n",
            "1    Professional        6000.0    2001-09-02                7.0       NaN  \n",
            "2    Professional        5000.0    2000-02-02                2.0       2.0  \n",
            "3       Secondary       12000.0    2006-05-13                2.0       NaN  \n",
            "4    Professional       10000.0    2007-08-06                3.0       NaN  \n"
          ]
        }
      ]
    },
    {
      "cell_type": "markdown",
      "source": [
        "Validating datasets"
      ],
      "metadata": {
        "id": "OmKKpKHu3sex"
      }
    },
    {
      "cell_type": "code",
      "source": [
        "missing_values = divorce.isnull().sum()\n",
        "print(\"Missing values:\")\n",
        "print(missing_values)\n",
        "\n",
        "# Check data types\n",
        "print(\"Data types:\")\n",
        "print(divorce.dtypes)\n",
        "\n",
        "# Check for duplicate entries\n",
        "duplicate_rows = divorce.duplicated().sum()\n",
        "print(\"Duplicate entries:\")\n",
        "print(duplicate_rows)"
      ],
      "metadata": {
        "colab": {
          "base_uri": "https://localhost:8080/"
        },
        "id": "-UDxlMse3vf2",
        "outputId": "d5c66512-ca69-48db-9458-d491e432775f"
      },
      "execution_count": 4,
      "outputs": [
        {
          "output_type": "stream",
          "name": "stdout",
          "text": [
            "Missing values:\n",
            "divorce_date           0\n",
            "dob_man                0\n",
            "education_man          0\n",
            "income_man             0\n",
            "dob_woman              0\n",
            "education_woman        0\n",
            "income_woman           0\n",
            "marriage_date          0\n",
            "marriage_duration      0\n",
            "num_kids             876\n",
            "dtype: int64\n",
            "Data types:\n",
            "divorce_date          object\n",
            "dob_man               object\n",
            "education_man         object\n",
            "income_man           float64\n",
            "dob_woman             object\n",
            "education_woman       object\n",
            "income_woman         float64\n",
            "marriage_date         object\n",
            "marriage_duration    float64\n",
            "num_kids             float64\n",
            "dtype: object\n",
            "Duplicate entries:\n",
            "0\n"
          ]
        }
      ]
    },
    {
      "cell_type": "markdown",
      "source": [
        "Summarizing the dataset statistics"
      ],
      "metadata": {
        "id": "WW8UK3N73xVM"
      }
    },
    {
      "cell_type": "code",
      "source": [
        "# Calculate basic statistics for numerical columns\n",
        "print(\"Basic statistics:\")\n",
        "print(divorce.describe())\n",
        "\n",
        "# Count the frequency of education levels for both man and woman\n",
        "print(\"Education level frequency for man:\")\n",
        "print(divorce['education_man'].value_counts())\n",
        "print(\"Education level frequency for woman:\")\n",
        "print(divorce['education_woman'].value_counts())\n",
        "\n",
        "# Count the number of unique marriage durations\n",
        "print(\"Unique marriage durations:\")\n",
        "print(divorce['marriage_duration'].unique())"
      ],
      "metadata": {
        "colab": {
          "base_uri": "https://localhost:8080/"
        },
        "id": "_Fmx-gso36t4",
        "outputId": "be8d305b-a9a6-4961-f20d-6f7cf0bde433"
      },
      "execution_count": 5,
      "outputs": [
        {
          "output_type": "stream",
          "name": "stdout",
          "text": [
            "Basic statistics:\n",
            "         income_man  income_woman  marriage_duration     num_kids\n",
            "count   2209.000000   2209.000000        2209.000000  1333.000000\n",
            "mean    7922.986410   6793.164545           9.606609     1.672918\n",
            "std     7693.796497   6562.928689           7.266696     0.732858\n",
            "min        3.000000      3.500000           1.000000     1.000000\n",
            "25%     3600.000000   3000.000000           4.000000     1.000000\n",
            "50%     6000.000000   5000.000000           8.000000     2.000000\n",
            "75%    10000.000000   8000.000000          14.000000     2.000000\n",
            "max    80000.000000  90000.000000          32.000000     5.000000\n",
            "Education level frequency for man:\n",
            "Professional    1313\n",
            "Preparatory      501\n",
            "Secondary        288\n",
            "Primary          100\n",
            "None               4\n",
            "Other              3\n",
            "Name: education_man, dtype: int64\n",
            "Education level frequency for woman:\n",
            "Professional    1433\n",
            "Preparatory      456\n",
            "Secondary        253\n",
            "Primary           65\n",
            "Other              2\n",
            "Name: education_woman, dtype: int64\n",
            "Unique marriage durations:\n",
            "[ 5.  7.  2.  3. 11. 10. 19.  4. 12.  6. 23. 22.  1. 13. 17.  9. 15. 14.\n",
            " 24. 16. 20.  8. 25. 32. 29. 21. 28. 30. 18. 27. 31. 26.]\n"
          ]
        }
      ]
    },
    {
      "cell_type": "markdown",
      "source": [
        "Calculating correlation matrix"
      ],
      "metadata": {
        "id": "yd5f_BLx4AOc"
      }
    },
    {
      "cell_type": "code",
      "source": [
        "# Calculate correlation coefficients\n",
        "correlation_matrix = divorce.corr()\n",
        "print(\"Correlation matrix:\")\n",
        "print(correlation_matrix)\n",
        "\n",
        "# Visualize correlations using a heatmap\n",
        "import seaborn as sns\n",
        "import matplotlib.pyplot as plt\n",
        "plt.figure(figsize=(10, 6))\n",
        "sns.heatmap(correlation_matrix, annot=True, cmap='coolwarm', fmt=\".2f\")\n",
        "plt.title(\"Correlation Heatmap\")\n",
        "plt.show()"
      ],
      "metadata": {
        "colab": {
          "base_uri": "https://localhost:8080/",
          "height": 556
        },
        "id": "07X1zjjO4Cx_",
        "outputId": "05e7c07d-22a5-4687-b25b-99f69fc4a55e"
      },
      "execution_count": 6,
      "outputs": [
        {
          "output_type": "stream",
          "name": "stderr",
          "text": [
            "<ipython-input-6-edc0fe6b008f>:2: FutureWarning: The default value of numeric_only in DataFrame.corr is deprecated. In a future version, it will default to False. Select only valid columns or specify the value of numeric_only to silence this warning.\n",
            "  correlation_matrix = divorce.corr()\n"
          ]
        },
        {
          "output_type": "stream",
          "name": "stdout",
          "text": [
            "Correlation matrix:\n",
            "                   income_man  income_woman  marriage_duration  num_kids\n",
            "income_man           1.000000      0.318047           0.085321  0.040848\n",
            "income_woman         0.318047      1.000000           0.078677 -0.018015\n",
            "marriage_duration    0.085321      0.078677           1.000000  0.447358\n",
            "num_kids             0.040848     -0.018015           0.447358  1.000000\n"
          ]
        },
        {
          "output_type": "display_data",
          "data": {
            "text/plain": [
              "<Figure size 1000x600 with 2 Axes>"
            ],
            "image/png": "[encoded data removed]"
          },
          "metadata": {}
        }
      ]
    },
    {
      "cell_type": "markdown",
      "source": [
        "Splitting the dataset into Train and Test sets"
      ],
      "metadata": {
        "id": "JFdn332w4Gn8"
      }
    },
    {
      "cell_type": "code",
      "source": [
        "# Assuming 'num_kids' is the target variable\n",
        "X = divorce.drop(columns=['divorce_date', 'marriage_date', 'num_kids'])  # Assuming 'divorce_date' and 'marriage_date' are not used as features\n",
        "y = divorce['num_kids']\n",
        "\n",
        "# Split the dataset into training and testing sets (80% train, 20% test)\n",
        "X_train, X_test, y_train, y_test = train_test_split(X, y, test_size=0.2, random_state=42)\n",
        "\n",
        "# Display the shapes of the training and testing sets\n",
        "print(\"Training set shape:\", X_train.shape)\n",
        "print(\"Testing set shape:\", X_test.shape)"
      ],
      "metadata": {
        "colab": {
          "base_uri": "https://localhost:8080/"
        },
        "id": "wBgI_v5U4HKT",
        "outputId": "3773b261-ba3f-4978-a968-6e2c3795bb71"
      },
      "execution_count": 7,
      "outputs": [
        {
          "output_type": "stream",
          "name": "stdout",
          "text": [
            "Training set shape: (1767, 7)\n",
            "Testing set shape: (442, 7)\n"
          ]
        }
      ]
    }
  ]
}