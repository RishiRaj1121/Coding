{
  "nbformat": 4,
  "nbformat_minor": 0,
  "metadata": {
    "colab": {
      "provenance": []
    },
    "kernelspec": {
      "name": "python3",
      "display_name": "Python 3"
    },
    "language_info": {
      "name": "python"
    }
  },
  "cells": [
    {
      "cell_type": "markdown",
      "source": [
        "Importing necessary libraries"
      ],
      "metadata": {
        "id": "0906CPte7-wY"
      }
    },
    {
      "cell_type": "code",
      "execution_count": 1,
      "metadata": {
        "id": "q7mm1p-K75mq"
      },
      "outputs": [],
      "source": [
        "import pandas as pd\n",
        "import numpy as np"
      ]
    },
    {
      "cell_type": "code",
      "source": [
        "pip install ucimlrepo"
      ],
      "metadata": {
        "colab": {
          "base_uri": "https://localhost:8080/"
        },
        "id": "mFGmDg0H8Ece",
        "outputId": "38b0c057-3157-4fbc-88c1-7de2e920359a"
      },
      "execution_count": 2,
      "outputs": [
        {
          "output_type": "stream",
          "name": "stdout",
          "text": [
            "Collecting ucimlrepo\n",
            "  Downloading ucimlrepo-0.0.3-py3-none-any.whl (7.0 kB)\n",
            "Installing collected packages: ucimlrepo\n",
            "Successfully installed ucimlrepo-0.0.3\n"
          ]
        }
      ]
    },
    {
      "cell_type": "markdown",
      "source": [
        "Importing the dataset"
      ],
      "metadata": {
        "id": "ZQ-2JUEn8JNl"
      }
    },
    {
      "cell_type": "code",
      "source": [
        "from ucimlrepo import fetch_ucirepo\n",
        "\n",
        "# fetch dataset\n",
        "glass_identification = fetch_ucirepo(id=42)\n",
        "\n",
        "# data (as pandas dataframes)\n",
        "X = glass_identification.data.features\n",
        "y = glass_identification.data.targets\n",
        "\n",
        "# metadata\n",
        "print(glass_identification.metadata)\n",
        "\n",
        "# variable information\n",
        "print(glass_identification.variables)\n"
      ],
      "metadata": {
        "colab": {
          "base_uri": "https://localhost:8080/"
        },
        "id": "KsT1Bb2e8HIX",
        "outputId": "1f8ccc9e-eb3e-401c-f737-a47fc18d81e2"
      },
      "execution_count": 3,
      "outputs": [
        {
          "output_type": "stream",
          "name": "stdout",
          "text": [
            "{'uci_id': 42, 'name': 'Glass Identification', 'repository_url': 'https://archive.ics.uci.edu/dataset/42/glass+identification', 'data_url': 'https://archive.ics.uci.edu/static/public/42/data.csv', 'abstract': 'From USA Forensic Science Service; 6 types of glass; defined in terms of their oxide content (i.e. Na, Fe, K, etc)', 'area': 'Physics and Chemistry', 'tasks': ['Classification'], 'characteristics': ['Multivariate'], 'num_instances': 214, 'num_features': 9, 'feature_types': ['Real'], 'demographics': [], 'target_col': ['Type_of_glass'], 'index_col': ['Id_number'], 'has_missing_values': 'no', 'missing_values_symbol': None, 'year_of_dataset_creation': 1987, 'last_updated': 'Thu Aug 10 2023', 'dataset_doi': '10.24432/C5WW2P', 'creators': ['B. German'], 'intro_paper': None, 'additional_info': {'summary': 'Vina conducted a comparison test of her rule-based system, BEAGLE, the nearest-neighbor algorithm, and discriminant analysis.  BEAGLE is a product available through VRS Consulting, Inc.; 4676 Admiralty Way, Suite 206; Marina Del Ray, CA 90292 (213) 827-7890 and FAX: -3189. In determining whether the glass was a type of \"float\" glass or not, the following results were obtained (# incorrect answers):\\r\\n\\r\\nType of Sample  -- Beagle -- NN -- DA\\r\\nWindows that were float processed (87)  -- 10 -- 12 -- 21\\r\\nWindows that were not:            (76) -- 19 -- 16 -- 22\\r\\n\\r\\nThe study of classification of types of glass was motivated by criminological investigation.  At the scene of the crime, the glass left can be used as evidence...if it is correctly identified!', 'purpose': None, 'funded_by': None, 'instances_represent': None, 'recommended_data_splits': None, 'sensitive_data': None, 'preprocessing_description': None, 'variable_info': '1. Id number: 1 to 214\\r\\n2. RI: refractive index\\r\\n3. Na: Sodium (unit measurement: weight percent in corresponding oxide, as are attributes 4-10)\\r\\n4. Mg: Magnesium\\r\\n5. Al: Aluminum\\r\\n6. Si: Silicon\\r\\n7. K: Potassium\\r\\n8. Ca: Calcium\\r\\n9. Ba: Barium\\r\\n10. Fe: Iron\\r\\n11. Type of glass: (class attribute)\\r\\n     -- 1 building_windows_float_processed\\r\\n     -- 2 building_windows_non_float_processed\\r\\n     -- 3 vehicle_windows_float_processed\\r\\n     -- 4 vehicle_windows_non_float_processed (none in this database)\\r\\n     -- 5 containers\\r\\n     -- 6 tableware\\r\\n     -- 7 headlamps', 'citation': None}}\n",
            "             name     role         type demographic       description  \\\n",
            "0       Id_number       ID      Integer        None              None   \n",
            "1              RI  Feature   Continuous        None  refractive index   \n",
            "2              Na  Feature   Continuous        None            Sodium   \n",
            "3              Mg  Feature   Continuous        None         Magnesium   \n",
            "4              Al  Feature   Continuous        None          Aluminum   \n",
            "5              Si  Feature   Continuous        None           Silicon   \n",
            "6               K  Feature   Continuous        None         Potassium   \n",
            "7              Ca  Feature   Continuous        None           Calcium   \n",
            "8              Ba  Feature   Continuous        None            Barium   \n",
            "9              Fe  Feature   Continuous        None              Iron   \n",
            "10  Type_of_glass   Target  Categorical        None              None   \n",
            "\n",
            "                                    units missing_values  \n",
            "0                                    None             no  \n",
            "1                                    None             no  \n",
            "2   weight percent in corresponding oxide             no  \n",
            "3   weight percent in corresponding oxide             no  \n",
            "4   weight percent in corresponding oxide             no  \n",
            "5   weight percent in corresponding oxide             no  \n",
            "6   weight percent in corresponding oxide             no  \n",
            "7   weight percent in corresponding oxide             no  \n",
            "8   weight percent in corresponding oxide             no  \n",
            "9   weight percent in corresponding oxide             no  \n",
            "10                                   None             no  \n"
          ]
        }
      ]
    },
    {
      "cell_type": "markdown",
      "source": [
        "Validating datasets"
      ],
      "metadata": {
        "id": "GTxweViy8hY9"
      }
    },
    {
      "cell_type": "code",
      "source": [
        "# Data Validation\n",
        "# Check for missing values\n",
        "missing_values = glass_identification.data.features.isnull().sum()\n",
        "print(\"Missing values:\")\n",
        "print(missing_values)\n",
        "\n",
        "# Check data types\n",
        "print(\"Data types:\")\n",
        "print(glass_identification.data.features.dtypes)\n",
        "\n",
        "# Check for duplicate entries\n",
        "duplicate_rows = glass_identification.data.features.duplicated().sum()\n",
        "print(\"Duplicate entries:\")\n",
        "print(duplicate_rows)"
      ],
      "metadata": {
        "colab": {
          "base_uri": "https://localhost:8080/"
        },
        "id": "k0Bwn8em8knx",
        "outputId": "a1458d98-b8b5-4d07-89ee-2bf4b3ab6b8f"
      },
      "execution_count": 4,
      "outputs": [
        {
          "output_type": "stream",
          "name": "stdout",
          "text": [
            "Missing values:\n",
            "RI    0\n",
            "Na    0\n",
            "Mg    0\n",
            "Al    0\n",
            "Si    0\n",
            "K     0\n",
            "Ca    0\n",
            "Ba    0\n",
            "Fe    0\n",
            "dtype: int64\n",
            "Data types:\n",
            "RI    float64\n",
            "Na    float64\n",
            "Mg    float64\n",
            "Al    float64\n",
            "Si    float64\n",
            "K     float64\n",
            "Ca    float64\n",
            "Ba    float64\n",
            "Fe    float64\n",
            "dtype: object\n",
            "Duplicate entries:\n",
            "1\n"
          ]
        }
      ]
    },
    {
      "cell_type": "markdown",
      "source": [
        "Summarizing the dataset statistics"
      ],
      "metadata": {
        "id": "G-lHExJ28mHE"
      }
    },
    {
      "cell_type": "code",
      "source": [
        "# Data Summarization\n",
        "# Calculate basic statistics\n",
        "print(\"Basic statistics:\")\n",
        "print(glass_identification.data.features.describe())\n",
        "\n",
        "# Count the frequency of unique values for categorical columns\n",
        "for column in glass_identification.data.features.columns:\n",
        "    if glass_identification.variables.loc[glass_identification.variables['name'] == column]['type'].values[0] == 'Categorical':\n",
        "        print(\"Frequency of unique values for column\", column)\n",
        "        print(glass_identification.data.features[column].value_counts())"
      ],
      "metadata": {
        "colab": {
          "base_uri": "https://localhost:8080/"
        },
        "id": "4hDkdXMv8oBH",
        "outputId": "9a1780dd-2521-45f3-d1cc-1b285ffe62fa"
      },
      "execution_count": 5,
      "outputs": [
        {
          "output_type": "stream",
          "name": "stdout",
          "text": [
            "Basic statistics:\n",
            "               RI          Na          Mg          Al          Si           K  \\\n",
            "count  214.000000  214.000000  214.000000  214.000000  214.000000  214.000000   \n",
            "mean     1.518365   13.407850    2.684533    1.444907   72.650935    0.497056   \n",
            "std      0.003037    0.816604    1.442408    0.499270    0.774546    0.652192   \n",
            "min      1.511150   10.730000    0.000000    0.290000   69.810000    0.000000   \n",
            "25%      1.516522   12.907500    2.115000    1.190000   72.280000    0.122500   \n",
            "50%      1.517680   13.300000    3.480000    1.360000   72.790000    0.555000   \n",
            "75%      1.519157   13.825000    3.600000    1.630000   73.087500    0.610000   \n",
            "max      1.533930   17.380000    4.490000    3.500000   75.410000    6.210000   \n",
            "\n",
            "               Ca          Ba          Fe  \n",
            "count  214.000000  214.000000  214.000000  \n",
            "mean     8.956963    0.175047    0.057009  \n",
            "std      1.423153    0.497219    0.097439  \n",
            "min      5.430000    0.000000    0.000000  \n",
            "25%      8.240000    0.000000    0.000000  \n",
            "50%      8.600000    0.000000    0.000000  \n",
            "75%      9.172500    0.000000    0.100000  \n",
            "max     16.190000    3.150000    0.510000  \n"
          ]
        }
      ]
    },
    {
      "cell_type": "markdown",
      "source": [
        "Calculating correlation matrix"
      ],
      "metadata": {
        "id": "P18Q5d1_8q20"
      }
    },
    {
      "cell_type": "code",
      "source": [
        "# Data Correlation\n",
        "# Calculate correlation coefficients\n",
        "correlation_matrix = glass_identification.data.features.corr()\n",
        "print(\"Correlation matrix:\")\n",
        "print(correlation_matrix)"
      ],
      "metadata": {
        "colab": {
          "base_uri": "https://localhost:8080/"
        },
        "id": "_emdZxVe8uWP",
        "outputId": "5efc452b-2695-43b5-df2b-810027067b5e"
      },
      "execution_count": 6,
      "outputs": [
        {
          "output_type": "stream",
          "name": "stdout",
          "text": [
            "Correlation matrix:\n",
            "          RI        Na        Mg        Al        Si         K        Ca  \\\n",
            "RI  1.000000 -0.191885 -0.122274 -0.407326 -0.542052 -0.289833  0.810403   \n",
            "Na -0.191885  1.000000 -0.273732  0.156794 -0.069809 -0.266087 -0.275442   \n",
            "Mg -0.122274 -0.273732  1.000000 -0.481799 -0.165927  0.005396 -0.443750   \n",
            "Al -0.407326  0.156794 -0.481799  1.000000 -0.005524  0.325958 -0.259592   \n",
            "Si -0.542052 -0.069809 -0.165927 -0.005524  1.000000 -0.193331 -0.208732   \n",
            "K  -0.289833 -0.266087  0.005396  0.325958 -0.193331  1.000000 -0.317836   \n",
            "Ca  0.810403 -0.275442 -0.443750 -0.259592 -0.208732 -0.317836  1.000000   \n",
            "Ba -0.000386  0.326603 -0.492262  0.479404 -0.102151 -0.042618 -0.112841   \n",
            "Fe  0.143010 -0.241346  0.083060 -0.074402 -0.094201 -0.007719  0.124968   \n",
            "\n",
            "          Ba        Fe  \n",
            "RI -0.000386  0.143010  \n",
            "Na  0.326603 -0.241346  \n",
            "Mg -0.492262  0.083060  \n",
            "Al  0.479404 -0.074402  \n",
            "Si -0.102151 -0.094201  \n",
            "K  -0.042618 -0.007719  \n",
            "Ca -0.112841  0.124968  \n",
            "Ba  1.000000 -0.058692  \n",
            "Fe -0.058692  1.000000  \n"
          ]
        }
      ]
    },
    {
      "cell_type": "markdown",
      "source": [
        "Splitting the dataset into Train and Test sets"
      ],
      "metadata": {
        "id": "XuIeOSG98xTt"
      }
    },
    {
      "cell_type": "code",
      "source": [
        "# Split the dataset into train and test datasets after data cleaning\n",
        "from sklearn.model_selection import train_test_split\n",
        "\n",
        "X_train, X_test, y_train, y_test = train_test_split(X, y, test_size=0.2, random_state=42)\n",
        "\n",
        "print(\"Training set shape:\", X_train.shape)\n",
        "print(\"Testing set shape:\", X_test.shape)"
      ],
      "metadata": {
        "colab": {
          "base_uri": "https://localhost:8080/"
        },
        "id": "GklGWE3p84ij",
        "outputId": "a1799b21-413c-42ef-ee49-1578eb3d24e2"
      },
      "execution_count": 7,
      "outputs": [
        {
          "output_type": "stream",
          "name": "stdout",
          "text": [
            "Training set shape: (171, 9)\n",
            "Testing set shape: (43, 9)\n"
          ]
        }
      ]
    }
  ]
}